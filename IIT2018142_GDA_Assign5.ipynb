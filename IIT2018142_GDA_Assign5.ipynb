{
 "cells": [
  {
   "cell_type": "code",
   "execution_count": 24,
   "metadata": {},
   "outputs": [],
   "source": [
    "import numpy as np\n",
    "import pandas as pd\n",
    "import matplotlib.pyplot as plt\n",
    "import random"
   ]
  },
  {
   "cell_type": "code",
   "execution_count": 25,
   "metadata": {},
   "outputs": [
    {
     "data": {
      "image/png": "[encoded data removed]",
      "text/plain": [
       "<Figure size 432x288 with 1 Axes>"
      ]
     },
     "metadata": {
      "needs_background": "light"
     },
     "output_type": "display_data"
    }
   ],
   "source": [
    "data = pd.read_csv('microchip_data.csv')\n",
    "data1=pd.read_csv('Data22.txt',header=None)\n",
    "x=data1.iloc[:,0:2]\n",
    "y=data1.iloc[:,2]\n",
    "mask=y==1\n",
    "passed=plt.scatter(x[mask][0].values,x[mask][1].values)\n",
    "failed=plt.scatter(x[~mask][0].values,x[~mask][1].values)\n",
    "plt.xlabel('microchip test 1')\n",
    "plt.ylabel('microchip test 2')\n",
    "plt.legend((passed,failed),('passed','failed'))\n",
    "plt.show()"
   ]
  },
  {
   "cell_type": "code",
   "execution_count": 26,
   "metadata": {},
   "outputs": [],
   "source": [
    "Y=data.iloc[:,2].values\n",
    "X=data.iloc[:,:2].values\n",
    "data=data.sample(frac=1)\n",
    "data=data.reset_index(drop=True)\n",
    "train_size = int((X.shape[0] * 7) / 10)\n",
    "X_train_indices = random.sample(range(0, X.shape[0]), train_size)\n",
    "X_train, X_test, Y_train, Y_test = [], [], [], []\n",
    "for i in range(X.shape[0]) :\n",
    "    if(i in X_train_indices) :\n",
    "        X_train.append(X[i])\n",
    "        Y_train.append(Y[i])\n",
    "    else :\n",
    "        X_test.append(X[i])\n",
    "        Y_test.append(Y[i])\n",
    "\n",
    "X_train = np.array(X_train)\n",
    "X_test = np.array(X_test)\n",
    "Y_train = np.array(Y_train)\n",
    "Y_test = np.array(Y_test)"
   ]
  },
  {
   "cell_type": "code",
   "execution_count": 27,
   "metadata": {},
   "outputs": [
    {
     "name": "stdout",
     "output_type": "stream",
     "text": [
      "phi: 0.4567901234567901\n"
     ]
    }
   ],
   "source": [
    "phi=sum(Y_train)/len(Y_train)\n",
    "print(\"phi: \"+str(phi))"
   ]
  },
  {
   "cell_type": "code",
   "execution_count": 28,
   "metadata": {},
   "outputs": [
    {
     "name": "stdout",
     "output_type": "stream",
     "text": [
      "mu0: [0.10349504 0.18971041]\n",
      "mu1: [0.03445295 0.21394292]\n"
     ]
    }
   ],
   "source": [
    "mu0=[0,0]\n",
    "mu1=[0,0]\n",
    "c0=0\n",
    "c1=0\n",
    "for i in range(len(Y_train)):\n",
    "    if Y_train[i]==0:\n",
    "        c0+=1\n",
    "        mu0+=X_train[i]\n",
    "    else:\n",
    "        c1+=1\n",
    "        mu1+=X_train[i]\n",
    "mu0/=c0\n",
    "mu1/=c1\n",
    "print(\"mu0: \"+str(mu0))\n",
    "print(\"mu1: \"+str(mu1))"
   ]
  },
  {
   "cell_type": "code",
   "execution_count": 29,
   "metadata": {},
   "outputs": [
    {
     "name": "stdout",
     "output_type": "stream",
     "text": [
      "sigma: [[0.02519577 0.01832824]\n",
      " [0.01832824 0.01333256]]\n",
      "Correct Predictions: 20 ,Out of: 36\n",
      "Accuracy:  55.55555555555556\n"
     ]
    },
    {
     "name": "stderr",
     "output_type": "stream",
     "text": [
      "/home/amritansh/.local/lib/python3.6/site-packages/ipykernel_launcher.py:19: RuntimeWarning: invalid value encountered in sqrt\n"
     ]
    }
   ],
   "source": [
    "m = len(Y_train)\n",
    "sigma = np.zeros((2,2))\n",
    "for i in range(m):\n",
    "    xi=X_train[i]\n",
    "    yi=Y_train[i]\n",
    "    if yi==1:\n",
    "        temp=xi-mu1\n",
    "        temp=tmp.reshape(-1,1)\n",
    "        temp1=np.transpose(tmp)\n",
    "        sqr=(temp)*(temp1)\n",
    "        sigma = sigma + sqr\n",
    "sigma=sigma/m\n",
    "print(\"sigma: \"+str(sigma))\n",
    "def calculate_px_y(x,mu):\n",
    "    n = len(mu)\n",
    "    det=np.linalg.det(sigma)\n",
    "    pi = 3.14\n",
    "    inverse=np.linalg.inv(sigma)\n",
    "    den=pow(2*pi,n/2)*np.sqrt(det)\n",
    "    temp=x-mu\n",
    "    temp=temp.reshape(-1,1)\n",
    "    temp1=np.transpose(temp)\n",
    "    p=np.dot(np.dot(tmp1,inverse),temp)\n",
    "    p=(-0.5)*p\n",
    "    num=np.exp(p)\n",
    "    return num/den\n",
    "def calculate_py(y):\n",
    "    if y==1:\n",
    "        return phi\n",
    "    else:\n",
    "        return (1-phi)\n",
    "def predictor(x):\n",
    "    p_0 = calculate_px_y(x,mu0)*calculate_py(0)\n",
    "    p_1 = calculate_px_y(x,mu1)*calculate_py(1) \n",
    "    if p_0>p_1:\n",
    "        return 0\n",
    "    else:\n",
    "        return 1\n",
    "        \n",
    "correct=0;\n",
    "predictions=[]\n",
    "l=len(Y_test)\n",
    "for i in range(l):\n",
    "    x=X_test[i]\n",
    "    y=Y_test[i]\n",
    "    y_predicted=predictor(x)\n",
    "    predictions.append(y_predicted)\n",
    "    if predictions[i]==y:\n",
    "        correct+=1\n",
    "print(\"Correct Predictions: \" + str(correct) + \" ,Out of: \"+ str(l))\n",
    "print(\"Accuracy: \",100*correct/l)"
   ]
  }
 ],
 "metadata": {
  "kernelspec": {
   "display_name": "Python 3",
   "language": "python",
   "name": "python3"
  },
  "language_info": {
   "codemirror_mode": {
    "name": "ipython",
    "version": 3
   },
   "file_extension": ".py",
   "mimetype": "text/x-python",
   "name": "python",
   "nbconvert_exporter": "python",
   "pygments_lexer": "ipython3",
   "version": "3.6.9"
  }
 },
 "nbformat": 4,
 "nbformat_minor": 2
}
